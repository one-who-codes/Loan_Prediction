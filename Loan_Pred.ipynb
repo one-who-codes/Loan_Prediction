{
 "cells": [
  {
   "cell_type": "code",
   "execution_count": null,
   "id": "b87b9fef",
   "metadata": {},
   "outputs": [],
   "source": [
    "import pandas as pd\n",
    "import numpy as np\n",
    "import matplotlib.pyplot as plt\n",
    "import seaborn as sns"
   ]
  },
  {
   "cell_type": "code",
   "execution_count": null,
   "id": "91300c68",
   "metadata": {},
   "outputs": [],
   "source": [
    "df_def=pd.read_csv(\"data/Data_Dictionary.csv\")\n",
    "df_def\n",
    "\n",
    "\n"
   ]
  },
  {
   "cell_type": "code",
   "execution_count": null,
   "id": "ba261f96",
   "metadata": {},
   "outputs": [],
   "source": [
    "df=pd.read_csv(\"data/Dataset.csv\",low_memory=False)\n",
    "df.head()"
   ]
  },
  {
   "cell_type": "code",
   "execution_count": null,
   "id": "99e3e271",
   "metadata": {},
   "outputs": [],
   "source": [
    "# df.isna().count()\n",
    "df.info()"
   ]
  },
  {
   "cell_type": "code",
   "execution_count": null,
   "id": "91b6824b",
   "metadata": {},
   "outputs": [],
   "source": [
    "df.isna().sum()"
   ]
  },
  {
   "cell_type": "code",
   "execution_count": null,
   "id": "903fb92a",
   "metadata": {},
   "outputs": [],
   "source": [
    "selected_columns=[\"Client_Income\",\"Car_Owned\",\"Bike_Owned\",\"Active_Loan\",\"House_Own\",\"Child_Count\",\"Credit_Amount\",\"Loan_Annuity\"]\n",
    "df=df[selected_columns]\n",
    "df.head()"
   ]
  },
  {
   "cell_type": "code",
   "execution_count": null,
   "id": "cb4090a4",
   "metadata": {},
   "outputs": [],
   "source": [
    "df.isna().sum()"
   ]
  },
  {
   "cell_type": "code",
   "execution_count": null,
   "id": "424d60b6",
   "metadata": {},
   "outputs": [],
   "source": [
    "df_new= df.copy(deep=True)"
   ]
  },
  {
   "cell_type": "code",
   "execution_count": null,
   "id": "cf014af9",
   "metadata": {},
   "outputs": [],
   "source": [
    "df_new.dropna(subset=[\"Client_Income\"],inplace=True)"
   ]
  },
  {
   "cell_type": "code",
   "execution_count": null,
   "id": "79700a17",
   "metadata": {},
   "outputs": [],
   "source": [
    "df_new[[\"Car_Owned\",\"Bike_Owned\",\"Active_Loan\",\"House_Own\",\"Child_Count\"]].isna().sum()"
   ]
  },
  {
   "cell_type": "code",
   "execution_count": null,
   "id": "31d73b2d",
   "metadata": {},
   "outputs": [],
   "source": [
    "df_new[[\"Car_Owned\",\"Bike_Owned\",\"Active_Loan\",\"House_Own\",\"Child_Count\"]]=df_new[[\"Car_Owned\",\"Bike_Owned\",\"Active_Loan\",\"House_Own\",\"Child_Count\"]].fillna(0)"
   ]
  },
  {
   "cell_type": "code",
   "execution_count": null,
   "id": "99af815e",
   "metadata": {},
   "outputs": [],
   "source": [
    "df_new.isna().sum()"
   ]
  },
  {
   "cell_type": "code",
   "execution_count": null,
   "id": "ddcfd529",
   "metadata": {},
   "outputs": [],
   "source": [
    "df_new['Credit_Amount'].dtypes"
   ]
  },
  {
   "cell_type": "code",
   "execution_count": null,
   "id": "c889e1fd",
   "metadata": {},
   "outputs": [],
   "source": [
    "for column in df_new.columns:\n",
    "    print(f\"{column}: {df_new[column].dtype}\")"
   ]
  },
  {
   "cell_type": "code",
   "execution_count": null,
   "id": "e34cbaf7",
   "metadata": {},
   "outputs": [],
   "source": [
    "df_new['Credit_Amount'] = pd.to_numeric(df_new['Credit_Amount'], errors='coerce')\n",
    "df_new['Client_Income'] = pd.to_numeric(df_new['Client_Income'], errors='coerce')"
   ]
  },
  {
   "cell_type": "code",
   "execution_count": null,
   "id": "c7d143e7",
   "metadata": {},
   "outputs": [],
   "source": [
    "df_new['Credit_Amount'].dtype"
   ]
  },
  {
   "cell_type": "code",
   "execution_count": null,
   "id": "9c68af8c",
   "metadata": {},
   "outputs": [],
   "source": [
    "df_new['Loan_Annuity'] = pd.to_numeric(df_new['Loan_Annuity'],errors='coerce')\n",
    "df_new['Loan_Annuity'].dtype"
   ]
  },
  {
   "cell_type": "code",
   "execution_count": null,
   "id": "402ceea0",
   "metadata": {},
   "outputs": [],
   "source": [
    "df_new['Loan_Annuity'].isna().sum()"
   ]
  },
  {
   "cell_type": "code",
   "execution_count": null,
   "id": "7d41360a",
   "metadata": {},
   "outputs": [],
   "source": [
    "df_new['Credit_Amount'].isna().sum()"
   ]
  },
  {
   "cell_type": "code",
   "execution_count": null,
   "id": "4ea223ae",
   "metadata": {},
   "outputs": [],
   "source": [
    "mean_loan_annuity=df_new['Loan_Annuity'].mean()\n",
    "mean_loan_annuity=round(mean_loan_annuity,2)\n",
    "print(mean_loan_annuity)"
   ]
  },
  {
   "cell_type": "code",
   "execution_count": null,
   "id": "19a8b5e9",
   "metadata": {},
   "outputs": [],
   "source": [
    "mean_credit_amount=df_new['Credit_Amount'].mean()\n",
    "mean_credit_amount=round(mean_credit_amount,2)\n",
    "print(mean_credit_amount)\n",
    "df_new['Credit_Amount']=df_new['Credit_Amount'].fillna(mean_credit_amount)\n"
   ]
  },
  {
   "cell_type": "code",
   "execution_count": null,
   "id": "c14ddb70",
   "metadata": {},
   "outputs": [],
   "source": [
    "df_new.describe()"
   ]
  },
  {
   "cell_type": "code",
   "execution_count": null,
   "id": "3321972d",
   "metadata": {},
   "outputs": [],
   "source": [
    "data=df_new['Child_Count'].max()\n",
    "data=df_new['Child_Count']\n",
    "count=0\n",
    "for i in df_new['Child_Count']:\n",
    "    if i>6:\n",
    "        count+=1\n",
    "        print(i)\n",
    "print(count)"
   ]
  },
  {
   "cell_type": "code",
   "execution_count": null,
   "id": "cc1aeba0",
   "metadata": {},
   "outputs": [],
   "source": [
    "#Imputing the Child count as 6 if the value is greater than 6\n",
    "df_new['Child_Count'] = df_new['Child_Count'].apply(lambda x: 6 if x > 6 else x)"
   ]
  },
  {
   "cell_type": "code",
   "execution_count": null,
   "id": "9129ff7a",
   "metadata": {},
   "outputs": [],
   "source": [
    "df_new.describe()"
   ]
  },
  {
   "cell_type": "code",
   "execution_count": null,
   "id": "9d0d7415",
   "metadata": {},
   "outputs": [],
   "source": [
    "df_new.isna().sum()"
   ]
  },
  {
   "cell_type": "code",
   "execution_count": null,
   "id": "17a166be",
   "metadata": {},
   "outputs": [],
   "source": [
    "from sklearn.linear_model import LinearRegression\n",
    "X=df_new[['Credit_Amount']]\n",
    "Y=df_new['Loan_Annuity'].fillna(0)\n",
    "\n",
    "model = LinearRegression()\n",
    "\n",
    "model.fit(X,Y)"
   ]
  },
  {
   "cell_type": "code",
   "execution_count": null,
   "id": "b5b0b36d",
   "metadata": {},
   "outputs": [],
   "source": [
    "missing_loan_annuity_rows = df_new[df_new['Loan_Annuity'].isnull()]\n",
    "missing_loan_annuity_rows"
   ]
  },
  {
   "cell_type": "code",
   "execution_count": null,
   "id": "e70d9bda",
   "metadata": {},
   "outputs": [],
   "source": [
    "predicted_loan_annuity = model.predict(missing_loan_annuity_rows[['Credit_Amount']])\n",
    "df_new.loc[df_new['Loan_Annuity'].isnull(), 'Loan_Annuity'] = predicted_loan_annuity"
   ]
  },
  {
   "cell_type": "code",
   "execution_count": null,
   "id": "bf079562",
   "metadata": {},
   "outputs": [],
   "source": [
    "df_new.isna().sum()"
   ]
  },
  {
   "cell_type": "code",
   "execution_count": null,
   "id": "6b08d35b",
   "metadata": {},
   "outputs": [],
   "source": [
    "\n",
    "df_new.head()"
   ]
  },
  {
   "cell_type": "code",
   "execution_count": null,
   "id": "30655c25",
   "metadata": {},
   "outputs": [],
   "source": [
    "\n",
    "\n",
    "df_new.corr()\n"
   ]
  },
  {
   "cell_type": "code",
   "execution_count": null,
   "id": "9053691a",
   "metadata": {},
   "outputs": [],
   "source": [
    "syn_size = len(df_new)\n",
    "df_new['Loan_Default'] = np.random.choice([0, 1], size=syn_size, p=[0.9, 0.1])\n"
   ]
  },
  {
   "cell_type": "code",
   "execution_count": null,
   "id": "941fe991",
   "metadata": {},
   "outputs": [],
   "source": [
    "df_new['Loan_Default'].value_counts()"
   ]
  },
  {
   "cell_type": "code",
   "execution_count": null,
   "id": "bfb5f0cf",
   "metadata": {},
   "outputs": [],
   "source": [
    "#Splitting features and traget var\n",
    "x=df_new.drop(columns=['Loan_Default'])\n",
    "y=df_new['Loan_Default']"
   ]
  },
  {
   "cell_type": "code",
   "execution_count": null,
   "id": "d96acce5",
   "metadata": {},
   "outputs": [],
   "source": [
    "#Spliting train and test sets\n",
    "\n",
    "from sklearn.model_selection import train_test_split\n",
    "\n",
    "x_train, x_test, y_train, y_test = train_test_split(x,y,test_size=0.2,random_state=42)"
   ]
  },
  {
   "cell_type": "code",
   "execution_count": null,
   "id": "66c6bbda",
   "metadata": {},
   "outputs": [],
   "source": [
    "# Using random forest\n",
    "\n",
    "from sklearn.ensemble import RandomForestClassifier\n",
    "\n",
    "model = RandomForestClassifier()\n",
    "model.fit(x_train,y_train)"
   ]
  },
  {
   "cell_type": "code",
   "execution_count": 177,
   "id": "211d84c4",
   "metadata": {},
   "outputs": [
    {
     "name": "stdout",
     "output_type": "stream",
     "text": [
      "Accuracy: 0.8785200845665962\n",
      "Precision: 0.10363636363636364\n",
      "Recall: 0.023389413212966764\n",
      "F1-score: 0.0381653833277536\n",
      "ROC-AUC Score: 0.5000744737304168\n"
     ]
    }
   ],
   "source": [
    "#Evaluation of the model\n",
    "from sklearn.metrics import accuracy_score,precision_score,recall_score,f1_score,roc_auc_score\n",
    "\n",
    "y_pred = model.predict(x_test)\n",
    "\n",
    "accuracy = accuracy_score(y_test,y_pred)\n",
    "precision = precision_score(y_test,y_pred)\n",
    "recall = recall_score(y_test,y_pred)\n",
    "f1=f1_score(y_test,y_pred)\n",
    "roc_auc = roc_auc_score(y_test,y_pred)\n",
    "\n",
    "print(\"Accuracy:\", accuracy)\n",
    "print(\"Precision:\", precision)\n",
    "print(\"Recall:\", recall)\n",
    "print(\"F1-score:\", f1)\n",
    "print(\"ROC-AUC Score:\", roc_auc)"
   ]
  },
  {
   "cell_type": "code",
   "execution_count": 178,
   "id": "7712da03",
   "metadata": {},
   "outputs": [
    {
     "data": {
      "text/html": [
       "<div>\n",
       "<style scoped>\n",
       "    .dataframe tbody tr th:only-of-type {\n",
       "        vertical-align: middle;\n",
       "    }\n",
       "\n",
       "    .dataframe tbody tr th {\n",
       "        vertical-align: top;\n",
       "    }\n",
       "\n",
       "    .dataframe thead th {\n",
       "        text-align: right;\n",
       "    }\n",
       "</style>\n",
       "<table border=\"1\" class=\"dataframe\">\n",
       "  <thead>\n",
       "    <tr style=\"text-align: right;\">\n",
       "      <th></th>\n",
       "      <th>Feature</th>\n",
       "      <th>Importance</th>\n",
       "    </tr>\n",
       "  </thead>\n",
       "  <tbody>\n",
       "    <tr>\n",
       "      <th>0</th>\n",
       "      <td>Client_Income</td>\n",
       "      <td>0.216651</td>\n",
       "    </tr>\n",
       "    <tr>\n",
       "      <th>1</th>\n",
       "      <td>Car_Owned</td>\n",
       "      <td>0.006375</td>\n",
       "    </tr>\n",
       "    <tr>\n",
       "      <th>2</th>\n",
       "      <td>Bike_Owned</td>\n",
       "      <td>0.007824</td>\n",
       "    </tr>\n",
       "    <tr>\n",
       "      <th>3</th>\n",
       "      <td>Active_Loan</td>\n",
       "      <td>0.008590</td>\n",
       "    </tr>\n",
       "    <tr>\n",
       "      <th>4</th>\n",
       "      <td>House_Own</td>\n",
       "      <td>0.006288</td>\n",
       "    </tr>\n",
       "    <tr>\n",
       "      <th>5</th>\n",
       "      <td>Child_Count</td>\n",
       "      <td>0.021619</td>\n",
       "    </tr>\n",
       "    <tr>\n",
       "      <th>6</th>\n",
       "      <td>Credit_Amount</td>\n",
       "      <td>0.320890</td>\n",
       "    </tr>\n",
       "    <tr>\n",
       "      <th>7</th>\n",
       "      <td>Loan_Annuity</td>\n",
       "      <td>0.411763</td>\n",
       "    </tr>\n",
       "  </tbody>\n",
       "</table>\n",
       "</div>"
      ],
      "text/plain": [
       "         Feature  Importance\n",
       "0  Client_Income    0.216651\n",
       "1      Car_Owned    0.006375\n",
       "2     Bike_Owned    0.007824\n",
       "3    Active_Loan    0.008590\n",
       "4      House_Own    0.006288\n",
       "5    Child_Count    0.021619\n",
       "6  Credit_Amount    0.320890\n",
       "7   Loan_Annuity    0.411763"
      ]
     },
     "execution_count": 178,
     "metadata": {},
     "output_type": "execute_result"
    }
   ],
   "source": [
    "feature_importances = model.feature_importances_\n",
    "feature_importance_df = pd.DataFrame({'Feature': x_train.columns, 'Importance': feature_importances})\n",
    "feature_importance_df"
   ]
  },
  {
   "cell_type": "code",
   "execution_count": null,
   "id": "f2680665",
   "metadata": {},
   "outputs": [],
   "source": [
    "feature_importance_df = feature_importance_df.sort_values(by='Importance', ascending=False)\n",
    "plt.barh(feature_importance_df['Feature'], feature_importance_df['Importance'])\n",
    "plt.show()"
   ]
  },
  {
   "cell_type": "code",
   "execution_count": 176,
   "id": "fe09f4d4",
   "metadata": {},
   "outputs": [
    {
     "name": "stdout",
     "output_type": "stream",
     "text": [
      "Best Parameters: {'max_depth': None, 'min_samples_leaf': 3, 'min_samples_split': 9, 'n_estimators': 132}\n",
      "Best F1-score: 0.00021090372245070126\n"
     ]
    }
   ],
   "source": [
    "from sklearn.model_selection import RandomizedSearchCV\n",
    "from scipy.stats import randint\n",
    "\n",
    "# Define hyperparameter distributions\n",
    "param_dist = {\n",
    "    'n_estimators': randint(50, 200),\n",
    "    'max_depth': [None, 10, 20],\n",
    "    'min_samples_split': randint(2, 10),\n",
    "    'min_samples_leaf': randint(1, 5)\n",
    "}\n",
    "\n",
    "# Initialize RandomizedSearchCV\n",
    "random_search = RandomizedSearchCV(estimator=model, param_distributions=param_dist, n_iter=10, cv=3, scoring='f1')\n",
    "\n",
    "# Perform RandomizedSearchCV\n",
    "random_search.fit(x_train, y_train)\n",
    "\n",
    "# Get the best parameters and best score\n",
    "best_params = random_search.best_params_\n",
    "best_score = random_search.best_score_\n",
    "\n",
    "print(\"Best Parameters:\", best_params)\n",
    "print(\"Best F1-score:\", best_score)\n"
   ]
  },
  {
   "cell_type": "code",
   "execution_count": 179,
   "id": "3976ca3e",
   "metadata": {},
   "outputs": [],
   "source": [
    "import pickle\n",
    "\n",
    "with open('model.pkl', 'wb') as file:\n",
    "    pickle.dump(model, file)"
   ]
  },
  {
   "cell_type": "code",
   "execution_count": 180,
   "id": "f044426b",
   "metadata": {},
   "outputs": [],
   "source": [
    "with open('model.pkl', 'rb') as file:\n",
    "    model=pickle.load(file)"
   ]
  },
  {
   "cell_type": "code",
   "execution_count": 197,
   "id": "120d1417",
   "metadata": {},
   "outputs": [],
   "source": [
    "client_income = 10000000\n",
    "car_owned = 0\n",
    "bike_owned = 0\n",
    "active_loan = 0\n",
    "house_own = 1\n",
    "child_count = 2\n",
    "credit_amount = 50000\n",
    "loan_annuity = 2000\n",
    "\n",
    "\n",
    "manual_input = pd.DataFrame({\n",
    "    'Client_Income': [client_income],\n",
    "    'Car_Owned': [car_owned],\n",
    "    'Bike_Owned': [bike_owned],\n",
    "    'Active_Loan': [active_loan],\n",
    "    'House_Own': [house_own],\n",
    "    'Child_Count': [child_count],\n",
    "    'Credit_Amount': [credit_amount],\n",
    "    'Loan_Annuity': [loan_annuity]\n",
    "})\n"
   ]
  },
  {
   "cell_type": "code",
   "execution_count": 198,
   "id": "2710f965",
   "metadata": {},
   "outputs": [
    {
     "name": "stdout",
     "output_type": "stream",
     "text": [
      "[0]\n"
     ]
    }
   ],
   "source": [
    "predictions = model.predict(manual_input)\n",
    "print(predictions)"
   ]
  },
  {
   "cell_type": "code",
   "execution_count": 193,
   "id": "482a3b52",
   "metadata": {},
   "outputs": [
    {
     "name": "stdout",
     "output_type": "stream",
     "text": [
      "[0]\n"
     ]
    }
   ],
   "source": []
  },
  {
   "cell_type": "code",
   "execution_count": null,
   "id": "1e3c1032",
   "metadata": {},
   "outputs": [],
   "source": []
  }
 ],
 "metadata": {
  "kernelspec": {
   "display_name": "Python 3 (ipykernel)",
   "language": "python",
   "name": "python3"
  },
  "language_info": {
   "codemirror_mode": {
    "name": "ipython",
    "version": 3
   },
   "file_extension": ".py",
   "mimetype": "text/x-python",
   "name": "python",
   "nbconvert_exporter": "python",
   "pygments_lexer": "ipython3",
   "version": "3.11.4"
  }
 },
 "nbformat": 4,
 "nbformat_minor": 5
}
